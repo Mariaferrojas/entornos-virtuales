{
  "cells": [
    {
      "cell_type": "markdown",
      "metadata": {},
      "source": [
        "# Notebook A\n",
        "Demostración de Fibonacci"
      ]
    },
    {
      "cell_type": "code",
      "execution_count": null,
      "metadata": {},
      "outputs": [],
      "source": [
        "def fibonacci(n):\n",
        "    a, b = 0, 1\n",
        "    seq = []\n",
        "    for _ in range(n):\n",
        "        seq.append(a)\n",
        "        a, b = b, a + b\n",
        "    return seq\n",
        "\n",
        "print(fibonacci(15))\n"
      ]
    }
  ],
  "metadata": {
    "kernelspec": {
      "display_name": "Python 3",
      "language": "python",
      "name": "python3"
    },
    "language_info": {
      "name": "python"
    }
  },
  "nbformat": 4,
  "nbformat_minor": 5
}